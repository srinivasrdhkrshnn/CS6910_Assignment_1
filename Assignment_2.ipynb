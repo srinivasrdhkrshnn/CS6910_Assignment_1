{
  "nbformat": 4,
  "nbformat_minor": 0,
  "metadata": {
    "colab": {
      "name": "Assignment 2.ipynb",
      "provenance": [],
      "collapsed_sections": [],
      "include_colab_link": true
    },
    "kernelspec": {
      "name": "python3",
      "display_name": "Python 3"
    },
    "language_info": {
      "name": "python"
    },
    "widgets": {
      "application/vnd.jupyter.widget-state+json": {
        "e0c3992ff744435e9b53662688db6de7": {
          "model_module": "@jupyter-widgets/controls",
          "model_name": "VBoxModel",
          "state": {
            "_view_name": "VBoxView",
            "_dom_classes": [],
            "_model_name": "VBoxModel",
            "_view_module": "@jupyter-widgets/controls",
            "_model_module_version": "1.5.0",
            "_view_count": null,
            "_view_module_version": "1.5.0",
            "box_style": "",
            "layout": "IPY_MODEL_ebe719a352cc4c23829b5dfea3ebc4a6",
            "_model_module": "@jupyter-widgets/controls",
            "children": [
              "IPY_MODEL_dda47d5b5a6e41a59bb332bcc98630f5",
              "IPY_MODEL_ef8eb20aabb349efabe1ce7a0a4a10d2"
            ]
          }
        },
        "ebe719a352cc4c23829b5dfea3ebc4a6": {
          "model_module": "@jupyter-widgets/base",
          "model_name": "LayoutModel",
          "state": {
            "_view_name": "LayoutView",
            "grid_template_rows": null,
            "right": null,
            "justify_content": null,
            "_view_module": "@jupyter-widgets/base",
            "overflow": null,
            "_model_module_version": "1.2.0",
            "_view_count": null,
            "flex_flow": null,
            "width": null,
            "min_width": null,
            "border": null,
            "align_items": null,
            "bottom": null,
            "_model_module": "@jupyter-widgets/base",
            "top": null,
            "grid_column": null,
            "overflow_y": null,
            "overflow_x": null,
            "grid_auto_flow": null,
            "grid_area": null,
            "grid_template_columns": null,
            "flex": null,
            "_model_name": "LayoutModel",
            "justify_items": null,
            "grid_row": null,
            "max_height": null,
            "align_content": null,
            "visibility": null,
            "align_self": null,
            "height": null,
            "min_height": null,
            "padding": null,
            "grid_auto_rows": null,
            "grid_gap": null,
            "max_width": null,
            "order": null,
            "_view_module_version": "1.2.0",
            "grid_template_areas": null,
            "object_position": null,
            "object_fit": null,
            "grid_auto_columns": null,
            "margin": null,
            "display": null,
            "left": null
          }
        },
        "dda47d5b5a6e41a59bb332bcc98630f5": {
          "model_module": "@jupyter-widgets/controls",
          "model_name": "LabelModel",
          "state": {
            "_view_name": "LabelView",
            "style": "IPY_MODEL_9f5660c4b5a9478887eb1d0c4dcd2d9f",
            "_dom_classes": [],
            "description": "",
            "_model_name": "LabelModel",
            "placeholder": "​",
            "_view_module": "@jupyter-widgets/controls",
            "_model_module_version": "1.5.0",
            "value": " 3043.07MB of 3043.07MB uploaded (1.47MB deduped)\r",
            "_view_count": null,
            "_view_module_version": "1.5.0",
            "description_tooltip": null,
            "_model_module": "@jupyter-widgets/controls",
            "layout": "IPY_MODEL_3d8c8827b34a40bda982f5022f5b6238"
          }
        },
        "ef8eb20aabb349efabe1ce7a0a4a10d2": {
          "model_module": "@jupyter-widgets/controls",
          "model_name": "FloatProgressModel",
          "state": {
            "_view_name": "ProgressView",
            "style": "IPY_MODEL_7fc763fc9743426e8492c99fa72519db",
            "_dom_classes": [],
            "description": "",
            "_model_name": "FloatProgressModel",
            "bar_style": "",
            "max": 1,
            "_view_module": "@jupyter-widgets/controls",
            "_model_module_version": "1.5.0",
            "value": 1,
            "_view_count": null,
            "_view_module_version": "1.5.0",
            "orientation": "horizontal",
            "min": 0,
            "description_tooltip": null,
            "_model_module": "@jupyter-widgets/controls",
            "layout": "IPY_MODEL_864b4f59cf384de790d6b566b2a85092"
          }
        },
        "9f5660c4b5a9478887eb1d0c4dcd2d9f": {
          "model_module": "@jupyter-widgets/controls",
          "model_name": "DescriptionStyleModel",
          "state": {
            "_view_name": "StyleView",
            "_model_name": "DescriptionStyleModel",
            "description_width": "",
            "_view_module": "@jupyter-widgets/base",
            "_model_module_version": "1.5.0",
            "_view_count": null,
            "_view_module_version": "1.2.0",
            "_model_module": "@jupyter-widgets/controls"
          }
        },
        "3d8c8827b34a40bda982f5022f5b6238": {
          "model_module": "@jupyter-widgets/base",
          "model_name": "LayoutModel",
          "state": {
            "_view_name": "LayoutView",
            "grid_template_rows": null,
            "right": null,
            "justify_content": null,
            "_view_module": "@jupyter-widgets/base",
            "overflow": null,
            "_model_module_version": "1.2.0",
            "_view_count": null,
            "flex_flow": null,
            "width": null,
            "min_width": null,
            "border": null,
            "align_items": null,
            "bottom": null,
            "_model_module": "@jupyter-widgets/base",
            "top": null,
            "grid_column": null,
            "overflow_y": null,
            "overflow_x": null,
            "grid_auto_flow": null,
            "grid_area": null,
            "grid_template_columns": null,
            "flex": null,
            "_model_name": "LayoutModel",
            "justify_items": null,
            "grid_row": null,
            "max_height": null,
            "align_content": null,
            "visibility": null,
            "align_self": null,
            "height": null,
            "min_height": null,
            "padding": null,
            "grid_auto_rows": null,
            "grid_gap": null,
            "max_width": null,
            "order": null,
            "_view_module_version": "1.2.0",
            "grid_template_areas": null,
            "object_position": null,
            "object_fit": null,
            "grid_auto_columns": null,
            "margin": null,
            "display": null,
            "left": null
          }
        },
        "7fc763fc9743426e8492c99fa72519db": {
          "model_module": "@jupyter-widgets/controls",
          "model_name": "ProgressStyleModel",
          "state": {
            "_view_name": "StyleView",
            "_model_name": "ProgressStyleModel",
            "description_width": "",
            "_view_module": "@jupyter-widgets/base",
            "_model_module_version": "1.5.0",
            "_view_count": null,
            "_view_module_version": "1.2.0",
            "bar_color": null,
            "_model_module": "@jupyter-widgets/controls"
          }
        },
        "864b4f59cf384de790d6b566b2a85092": {
          "model_module": "@jupyter-widgets/base",
          "model_name": "LayoutModel",
          "state": {
            "_view_name": "LayoutView",
            "grid_template_rows": null,
            "right": null,
            "justify_content": null,
            "_view_module": "@jupyter-widgets/base",
            "overflow": null,
            "_model_module_version": "1.2.0",
            "_view_count": null,
            "flex_flow": null,
            "width": null,
            "min_width": null,
            "border": null,
            "align_items": null,
            "bottom": null,
            "_model_module": "@jupyter-widgets/base",
            "top": null,
            "grid_column": null,
            "overflow_y": null,
            "overflow_x": null,
            "grid_auto_flow": null,
            "grid_area": null,
            "grid_template_columns": null,
            "flex": null,
            "_model_name": "LayoutModel",
            "justify_items": null,
            "grid_row": null,
            "max_height": null,
            "align_content": null,
            "visibility": null,
            "align_self": null,
            "height": null,
            "min_height": null,
            "padding": null,
            "grid_auto_rows": null,
            "grid_gap": null,
            "max_width": null,
            "order": null,
            "_view_module_version": "1.2.0",
            "grid_template_areas": null,
            "object_position": null,
            "object_fit": null,
            "grid_auto_columns": null,
            "margin": null,
            "display": null,
            "left": null
          }
        },
        "1df7b2f980764190bd520c242200fc9d": {
          "model_module": "@jupyter-widgets/controls",
          "model_name": "VBoxModel",
          "state": {
            "_view_name": "VBoxView",
            "_dom_classes": [],
            "_model_name": "VBoxModel",
            "_view_module": "@jupyter-widgets/controls",
            "_model_module_version": "1.5.0",
            "_view_count": null,
            "_view_module_version": "1.5.0",
            "box_style": "",
            "layout": "IPY_MODEL_0a12030debc7438a83ac629ef939023a",
            "_model_module": "@jupyter-widgets/controls",
            "children": [
              "IPY_MODEL_00f1b8ceaa4d45e3a9c40f28b6187469",
              "IPY_MODEL_366de80e79e646c6ac7f74a237111b31"
            ]
          }
        },
        "0a12030debc7438a83ac629ef939023a": {
          "model_module": "@jupyter-widgets/base",
          "model_name": "LayoutModel",
          "state": {
            "_view_name": "LayoutView",
            "grid_template_rows": null,
            "right": null,
            "justify_content": null,
            "_view_module": "@jupyter-widgets/base",
            "overflow": null,
            "_model_module_version": "1.2.0",
            "_view_count": null,
            "flex_flow": null,
            "width": null,
            "min_width": null,
            "border": null,
            "align_items": null,
            "bottom": null,
            "_model_module": "@jupyter-widgets/base",
            "top": null,
            "grid_column": null,
            "overflow_y": null,
            "overflow_x": null,
            "grid_auto_flow": null,
            "grid_area": null,
            "grid_template_columns": null,
            "flex": null,
            "_model_name": "LayoutModel",
            "justify_items": null,
            "grid_row": null,
            "max_height": null,
            "align_content": null,
            "visibility": null,
            "align_self": null,
            "height": null,
            "min_height": null,
            "padding": null,
            "grid_auto_rows": null,
            "grid_gap": null,
            "max_width": null,
            "order": null,
            "_view_module_version": "1.2.0",
            "grid_template_areas": null,
            "object_position": null,
            "object_fit": null,
            "grid_auto_columns": null,
            "margin": null,
            "display": null,
            "left": null
          }
        },
        "00f1b8ceaa4d45e3a9c40f28b6187469": {
          "model_module": "@jupyter-widgets/controls",
          "model_name": "LabelModel",
          "state": {
            "_view_name": "LabelView",
            "style": "IPY_MODEL_8728da1dc76d4f27b0abb25d97dbea08",
            "_dom_classes": [],
            "description": "",
            "_model_name": "LabelModel",
            "placeholder": "​",
            "_view_module": "@jupyter-widgets/controls",
            "_model_module_version": "1.5.0",
            "value": " 603.93MB of 603.93MB uploaded (0.42MB deduped)\r",
            "_view_count": null,
            "_view_module_version": "1.5.0",
            "description_tooltip": null,
            "_model_module": "@jupyter-widgets/controls",
            "layout": "IPY_MODEL_b9d1a2eb706343a685708b4bb7a3946f"
          }
        },
        "366de80e79e646c6ac7f74a237111b31": {
          "model_module": "@jupyter-widgets/controls",
          "model_name": "FloatProgressModel",
          "state": {
            "_view_name": "ProgressView",
            "style": "IPY_MODEL_d6e9cb846cac4dfabac672d0c876b26e",
            "_dom_classes": [],
            "description": "",
            "_model_name": "FloatProgressModel",
            "bar_style": "",
            "max": 1,
            "_view_module": "@jupyter-widgets/controls",
            "_model_module_version": "1.5.0",
            "value": 1,
            "_view_count": null,
            "_view_module_version": "1.5.0",
            "orientation": "horizontal",
            "min": 0,
            "description_tooltip": null,
            "_model_module": "@jupyter-widgets/controls",
            "layout": "IPY_MODEL_35a411651c2e4c5e858f881c8ac0af49"
          }
        },
        "8728da1dc76d4f27b0abb25d97dbea08": {
          "model_module": "@jupyter-widgets/controls",
          "model_name": "DescriptionStyleModel",
          "state": {
            "_view_name": "StyleView",
            "_model_name": "DescriptionStyleModel",
            "description_width": "",
            "_view_module": "@jupyter-widgets/base",
            "_model_module_version": "1.5.0",
            "_view_count": null,
            "_view_module_version": "1.2.0",
            "_model_module": "@jupyter-widgets/controls"
          }
        },
        "b9d1a2eb706343a685708b4bb7a3946f": {
          "model_module": "@jupyter-widgets/base",
          "model_name": "LayoutModel",
          "state": {
            "_view_name": "LayoutView",
            "grid_template_rows": null,
            "right": null,
            "justify_content": null,
            "_view_module": "@jupyter-widgets/base",
            "overflow": null,
            "_model_module_version": "1.2.0",
            "_view_count": null,
            "flex_flow": null,
            "width": null,
            "min_width": null,
            "border": null,
            "align_items": null,
            "bottom": null,
            "_model_module": "@jupyter-widgets/base",
            "top": null,
            "grid_column": null,
            "overflow_y": null,
            "overflow_x": null,
            "grid_auto_flow": null,
            "grid_area": null,
            "grid_template_columns": null,
            "flex": null,
            "_model_name": "LayoutModel",
            "justify_items": null,
            "grid_row": null,
            "max_height": null,
            "align_content": null,
            "visibility": null,
            "align_self": null,
            "height": null,
            "min_height": null,
            "padding": null,
            "grid_auto_rows": null,
            "grid_gap": null,
            "max_width": null,
            "order": null,
            "_view_module_version": "1.2.0",
            "grid_template_areas": null,
            "object_position": null,
            "object_fit": null,
            "grid_auto_columns": null,
            "margin": null,
            "display": null,
            "left": null
          }
        },
        "d6e9cb846cac4dfabac672d0c876b26e": {
          "model_module": "@jupyter-widgets/controls",
          "model_name": "ProgressStyleModel",
          "state": {
            "_view_name": "StyleView",
            "_model_name": "ProgressStyleModel",
            "description_width": "",
            "_view_module": "@jupyter-widgets/base",
            "_model_module_version": "1.5.0",
            "_view_count": null,
            "_view_module_version": "1.2.0",
            "bar_color": null,
            "_model_module": "@jupyter-widgets/controls"
          }
        },
        "35a411651c2e4c5e858f881c8ac0af49": {
          "model_module": "@jupyter-widgets/base",
          "model_name": "LayoutModel",
          "state": {
            "_view_name": "LayoutView",
            "grid_template_rows": null,
            "right": null,
            "justify_content": null,
            "_view_module": "@jupyter-widgets/base",
            "overflow": null,
            "_model_module_version": "1.2.0",
            "_view_count": null,
            "flex_flow": null,
            "width": null,
            "min_width": null,
            "border": null,
            "align_items": null,
            "bottom": null,
            "_model_module": "@jupyter-widgets/base",
            "top": null,
            "grid_column": null,
            "overflow_y": null,
            "overflow_x": null,
            "grid_auto_flow": null,
            "grid_area": null,
            "grid_template_columns": null,
            "flex": null,
            "_model_name": "LayoutModel",
            "justify_items": null,
            "grid_row": null,
            "max_height": null,
            "align_content": null,
            "visibility": null,
            "align_self": null,
            "height": null,
            "min_height": null,
            "padding": null,
            "grid_auto_rows": null,
            "grid_gap": null,
            "max_width": null,
            "order": null,
            "_view_module_version": "1.2.0",
            "grid_template_areas": null,
            "object_position": null,
            "object_fit": null,
            "grid_auto_columns": null,
            "margin": null,
            "display": null,
            "left": null
          }
        },
        "68059dc14a1649cf90d354480e702f4b": {
          "model_module": "@jupyter-widgets/controls",
          "model_name": "VBoxModel",
          "state": {
            "_view_name": "VBoxView",
            "_dom_classes": [],
            "_model_name": "VBoxModel",
            "_view_module": "@jupyter-widgets/controls",
            "_model_module_version": "1.5.0",
            "_view_count": null,
            "_view_module_version": "1.5.0",
            "box_style": "",
            "layout": "IPY_MODEL_824b93a253d54c559e3364b6d9b8f44a",
            "_model_module": "@jupyter-widgets/controls",
            "children": [
              "IPY_MODEL_d69e7b4d28dd4cd59bd3a809ac72c086",
              "IPY_MODEL_3b5309d2577d4acc9e1f4b7d26da4cf1"
            ]
          }
        },
        "824b93a253d54c559e3364b6d9b8f44a": {
          "model_module": "@jupyter-widgets/base",
          "model_name": "LayoutModel",
          "state": {
            "_view_name": "LayoutView",
            "grid_template_rows": null,
            "right": null,
            "justify_content": null,
            "_view_module": "@jupyter-widgets/base",
            "overflow": null,
            "_model_module_version": "1.2.0",
            "_view_count": null,
            "flex_flow": null,
            "width": null,
            "min_width": null,
            "border": null,
            "align_items": null,
            "bottom": null,
            "_model_module": "@jupyter-widgets/base",
            "top": null,
            "grid_column": null,
            "overflow_y": null,
            "overflow_x": null,
            "grid_auto_flow": null,
            "grid_area": null,
            "grid_template_columns": null,
            "flex": null,
            "_model_name": "LayoutModel",
            "justify_items": null,
            "grid_row": null,
            "max_height": null,
            "align_content": null,
            "visibility": null,
            "align_self": null,
            "height": null,
            "min_height": null,
            "padding": null,
            "grid_auto_rows": null,
            "grid_gap": null,
            "max_width": null,
            "order": null,
            "_view_module_version": "1.2.0",
            "grid_template_areas": null,
            "object_position": null,
            "object_fit": null,
            "grid_auto_columns": null,
            "margin": null,
            "display": null,
            "left": null
          }
        },
        "d69e7b4d28dd4cd59bd3a809ac72c086": {
          "model_module": "@jupyter-widgets/controls",
          "model_name": "LabelModel",
          "state": {
            "_view_name": "LabelView",
            "style": "IPY_MODEL_cb7ed38ff6c74fb8bdf30fed7ff70789",
            "_dom_classes": [],
            "description": "",
            "_model_name": "LabelModel",
            "placeholder": "​",
            "_view_module": "@jupyter-widgets/controls",
            "_model_module_version": "1.5.0",
            "value": " 3043.07MB of 3043.07MB uploaded (0.94MB deduped)\r",
            "_view_count": null,
            "_view_module_version": "1.5.0",
            "description_tooltip": null,
            "_model_module": "@jupyter-widgets/controls",
            "layout": "IPY_MODEL_0e8fdbbfce4e4101ba37a38dc8d1f25c"
          }
        },
        "3b5309d2577d4acc9e1f4b7d26da4cf1": {
          "model_module": "@jupyter-widgets/controls",
          "model_name": "FloatProgressModel",
          "state": {
            "_view_name": "ProgressView",
            "style": "IPY_MODEL_ef23cb5346df4ee3b634e2b890f6955a",
            "_dom_classes": [],
            "description": "",
            "_model_name": "FloatProgressModel",
            "bar_style": "",
            "max": 1,
            "_view_module": "@jupyter-widgets/controls",
            "_model_module_version": "1.5.0",
            "value": 1,
            "_view_count": null,
            "_view_module_version": "1.5.0",
            "orientation": "horizontal",
            "min": 0,
            "description_tooltip": null,
            "_model_module": "@jupyter-widgets/controls",
            "layout": "IPY_MODEL_3f1648178bbb431e9c9ef6ddd1223b4a"
          }
        },
        "cb7ed38ff6c74fb8bdf30fed7ff70789": {
          "model_module": "@jupyter-widgets/controls",
          "model_name": "DescriptionStyleModel",
          "state": {
            "_view_name": "StyleView",
            "_model_name": "DescriptionStyleModel",
            "description_width": "",
            "_view_module": "@jupyter-widgets/base",
            "_model_module_version": "1.5.0",
            "_view_count": null,
            "_view_module_version": "1.2.0",
            "_model_module": "@jupyter-widgets/controls"
          }
        },
        "0e8fdbbfce4e4101ba37a38dc8d1f25c": {
          "model_module": "@jupyter-widgets/base",
          "model_name": "LayoutModel",
          "state": {
            "_view_name": "LayoutView",
            "grid_template_rows": null,
            "right": null,
            "justify_content": null,
            "_view_module": "@jupyter-widgets/base",
            "overflow": null,
            "_model_module_version": "1.2.0",
            "_view_count": null,
            "flex_flow": null,
            "width": null,
            "min_width": null,
            "border": null,
            "align_items": null,
            "bottom": null,
            "_model_module": "@jupyter-widgets/base",
            "top": null,
            "grid_column": null,
            "overflow_y": null,
            "overflow_x": null,
            "grid_auto_flow": null,
            "grid_area": null,
            "grid_template_columns": null,
            "flex": null,
            "_model_name": "LayoutModel",
            "justify_items": null,
            "grid_row": null,
            "max_height": null,
            "align_content": null,
            "visibility": null,
            "align_self": null,
            "height": null,
            "min_height": null,
            "padding": null,
            "grid_auto_rows": null,
            "grid_gap": null,
            "max_width": null,
            "order": null,
            "_view_module_version": "1.2.0",
            "grid_template_areas": null,
            "object_position": null,
            "object_fit": null,
            "grid_auto_columns": null,
            "margin": null,
            "display": null,
            "left": null
          }
        },
        "ef23cb5346df4ee3b634e2b890f6955a": {
          "model_module": "@jupyter-widgets/controls",
          "model_name": "ProgressStyleModel",
          "state": {
            "_view_name": "StyleView",
            "_model_name": "ProgressStyleModel",
            "description_width": "",
            "_view_module": "@jupyter-widgets/base",
            "_model_module_version": "1.5.0",
            "_view_count": null,
            "_view_module_version": "1.2.0",
            "bar_color": null,
            "_model_module": "@jupyter-widgets/controls"
          }
        },
        "3f1648178bbb431e9c9ef6ddd1223b4a": {
          "model_module": "@jupyter-widgets/base",
          "model_name": "LayoutModel",
          "state": {
            "_view_name": "LayoutView",
            "grid_template_rows": null,
            "right": null,
            "justify_content": null,
            "_view_module": "@jupyter-widgets/base",
            "overflow": null,
            "_model_module_version": "1.2.0",
            "_view_count": null,
            "flex_flow": null,
            "width": null,
            "min_width": null,
            "border": null,
            "align_items": null,
            "bottom": null,
            "_model_module": "@jupyter-widgets/base",
            "top": null,
            "grid_column": null,
            "overflow_y": null,
            "overflow_x": null,
            "grid_auto_flow": null,
            "grid_area": null,
            "grid_template_columns": null,
            "flex": null,
            "_model_name": "LayoutModel",
            "justify_items": null,
            "grid_row": null,
            "max_height": null,
            "align_content": null,
            "visibility": null,
            "align_self": null,
            "height": null,
            "min_height": null,
            "padding": null,
            "grid_auto_rows": null,
            "grid_gap": null,
            "max_width": null,
            "order": null,
            "_view_module_version": "1.2.0",
            "grid_template_areas": null,
            "object_position": null,
            "object_fit": null,
            "grid_auto_columns": null,
            "margin": null,
            "display": null,
            "left": null
          }
        }
      }
    }
  },
  "cells": [
    {
      "cell_type": "markdown",
      "metadata": {
        "id": "view-in-github",
        "colab_type": "text"
      },
      "source": [
        "<a href=\"https://colab.research.google.com/github/srinivasrdhkrshnn/CS6910_Assignment_1/blob/main/Assignment_2.ipynb\" target=\"_parent\"><img src=\"https://colab.research.google.com/assets/colab-badge.svg\" alt=\"Open In Colab\"/></a>"
      ]
    },
    {
      "cell_type": "code",
      "metadata": {
        "id": "iZ4alvF1PJKc"
      },
      "source": [
        "src_url = \"https://storage.googleapis.com/wandb_datasets/nature_12K.zip\"\n",
        "src_zip = \"nature_12K.zip\"\n",
        "DATA_TRAIN_SRC = \"inaturalist_12K/train\" \n",
        "DATA_TEST_SRC = \"inaturalist_12K/val\"\n",
        "TRAIN_IMAGES_PER_LABEL = 1000\n",
        "TEST_IMAGES_PER_LABEL = 200\n",
        "BALANCED_SPLITS = {\"train\" : 900, \"val\" : 100}"
      ],
      "execution_count": 7,
      "outputs": []
    },
    {
      "cell_type": "code",
      "metadata": {
        "id": "tvmkELlpPQHJ"
      },
      "source": [
        "%%capture\n",
        "!curl -SL $src_url > $src_zip\n",
        "!unzip $src_zip"
      ],
      "execution_count": 8,
      "outputs": []
    },
    {
      "cell_type": "code",
      "metadata": {
        "colab": {
          "base_uri": "https://localhost:8080/"
        },
        "id": "V3A62DDWPxTf",
        "outputId": "614e0eba-e52d-4ed2-da83-081f38856b80"
      },
      "source": [
        "import tensorflow as tf\n",
        "from tensorflow.keras.preprocessing.image import ImageDataGenerator\n",
        "import os\n",
        "import numpy as np\n",
        "import matplotlib.pyplot as plt\n",
        "from random import shuffle\n",
        "\n",
        "!pip3 install tensorflow -qqq\n",
        "!pip3 install wandb -qqq\n",
        "import wandb\n",
        "!wandb login\n",
        "from wandb.keras import WandbCallback"
      ],
      "execution_count": 9,
      "outputs": [
        {
          "output_type": "stream",
          "text": [
            "\u001b[34m\u001b[1mwandb\u001b[0m: Currently logged in as: \u001b[33mrohithd\u001b[0m (use `wandb login --relogin` to force relogin)\n"
          ],
          "name": "stdout"
        }
      ]
    },
    {
      "cell_type": "code",
      "metadata": {
        "id": "k3hRW3jH98mZ"
      },
      "source": [
        "PROJECT_NAME = \"CS6910 ASSIGNMENT 2\""
      ],
      "execution_count": null,
      "outputs": []
    },
    {
      "cell_type": "markdown",
      "metadata": {
        "id": "Pa2NBeWiP43D"
      },
      "source": [
        "**Upload Raw Train Data**"
      ]
    },
    {
      "cell_type": "code",
      "metadata": {
        "colab": {
          "base_uri": "https://localhost:8080/",
          "height": 256,
          "referenced_widgets": [
            "e0c3992ff744435e9b53662688db6de7",
            "ebe719a352cc4c23829b5dfea3ebc4a6",
            "dda47d5b5a6e41a59bb332bcc98630f5",
            "ef8eb20aabb349efabe1ce7a0a4a10d2",
            "9f5660c4b5a9478887eb1d0c4dcd2d9f",
            "3d8c8827b34a40bda982f5022f5b6238",
            "7fc763fc9743426e8492c99fa72519db",
            "864b4f59cf384de790d6b566b2a85092"
          ]
        },
        "id": "IIgV7Ef9P9cM",
        "outputId": "f2dee0a3-4fb9-4b49-f668-5de4e185d0b4"
      },
      "source": [
        "# source directory for all raw train data\n",
        "SRC_TRAIN = DATA_TRAIN_SRC\n",
        "# number of images per class label\n",
        "# the total number of images is 10X this (10 classes)\n",
        "TOTAL_IMAGES = TRAIN_IMAGES_PER_LABEL * 10\n",
        "PREFIX_1 = \"train\" # convenient for tracking local data\n",
        "\n",
        "TRAIN_RAW_DATA_AT = \"_\".join([PREFIX_1, \"raw_data\", str(TOTAL_IMAGES)])\n",
        "run = wandb.init(project=PROJECT_NAME, job_type=\"upload\")\n",
        "\n",
        "# create an artifact for all the raw data\n",
        "raw_data_at = wandb.Artifact(TRAIN_RAW_DATA_AT, type=\"raw_data\")\n",
        "\n",
        "# SRC_DIR contains 10 folders, one for each of 10 class labels\n",
        "# each folder contains images of the corresponding class\n",
        "labels = os.listdir(SRC_TRAIN)\n",
        "for l in labels:\n",
        "  imgs_per_label = os.path.join(SRC_TRAIN, l)\n",
        "  if os.path.isdir(imgs_per_label):\n",
        "    imgs = os.listdir(imgs_per_label)\n",
        "    # randomize the order\n",
        "    shuffle(imgs)\n",
        "    img_file_ids = imgs[:TRAIN_IMAGES_PER_LABEL]\n",
        "    for f in img_file_ids:\n",
        "      file_path = os.path.join(SRC_TRAIN, l, f)\n",
        "      # add file to artifact by full path\n",
        "      raw_data_at.add_file(file_path, name=l + \"/\" + f)\n",
        "\n",
        "# save artifact to W&B\n",
        "run.log_artifact(raw_data_at)\n",
        "run.finish()"
      ],
      "execution_count": 10,
      "outputs": [
        {
          "output_type": "display_data",
          "data": {
            "text/html": [
              "\n",
              "                Tracking run with wandb version 0.10.25<br/>\n",
              "                Syncing run <strong style=\"color:#cdcd00\">worthy-jazz-2</strong> to <a href=\"https://wandb.ai\" target=\"_blank\">Weights & Biases</a> <a href=\"https://docs.wandb.com/integrations/jupyter.html\" target=\"_blank\">(Documentation)</a>.<br/>\n",
              "                Project page: <a href=\"https://wandb.ai/rohithd/CS6910%20ASSIGNMENT%202\" target=\"_blank\">https://wandb.ai/rohithd/CS6910%20ASSIGNMENT%202</a><br/>\n",
              "                Run page: <a href=\"https://wandb.ai/rohithd/CS6910%20ASSIGNMENT%202/runs/2gk7v7pr\" target=\"_blank\">https://wandb.ai/rohithd/CS6910%20ASSIGNMENT%202/runs/2gk7v7pr</a><br/>\n",
              "                Run data is saved locally in <code>/content/wandb/run-20210410_132728-2gk7v7pr</code><br/><br/>\n",
              "            "
            ],
            "text/plain": [
              "<IPython.core.display.HTML object>"
            ]
          },
          "metadata": {
            "tags": []
          }
        },
        {
          "output_type": "display_data",
          "data": {
            "text/html": [
              "<br/>Waiting for W&B process to finish, PID 268<br/>Program ended successfully."
            ],
            "text/plain": [
              "<IPython.core.display.HTML object>"
            ]
          },
          "metadata": {
            "tags": []
          }
        },
        {
          "output_type": "display_data",
          "data": {
            "application/vnd.jupyter.widget-view+json": {
              "model_id": "e0c3992ff744435e9b53662688db6de7",
              "version_minor": 0,
              "version_major": 2
            },
            "text/plain": [
              "VBox(children=(Label(value=' 3043.06MB of 3043.06MB uploaded (1.47MB deduped)\\r'), FloatProgress(value=1.0, ma…"
            ]
          },
          "metadata": {
            "tags": []
          }
        },
        {
          "output_type": "display_data",
          "data": {
            "text/html": [
              "Find user logs for this run at: <code>/content/wandb/run-20210410_132728-2gk7v7pr/logs/debug.log</code>"
            ],
            "text/plain": [
              "<IPython.core.display.HTML object>"
            ]
          },
          "metadata": {
            "tags": []
          }
        },
        {
          "output_type": "display_data",
          "data": {
            "text/html": [
              "Find internal logs for this run at: <code>/content/wandb/run-20210410_132728-2gk7v7pr/logs/debug-internal.log</code>"
            ],
            "text/plain": [
              "<IPython.core.display.HTML object>"
            ]
          },
          "metadata": {
            "tags": []
          }
        },
        {
          "output_type": "display_data",
          "data": {
            "text/html": [
              "Synced 4 W&B file(s), 0 media file(s), 9996 artifact file(s) and 0 other file(s)"
            ],
            "text/plain": [
              "<IPython.core.display.HTML object>"
            ]
          },
          "metadata": {
            "tags": []
          }
        },
        {
          "output_type": "display_data",
          "data": {
            "text/html": [
              "\n",
              "                    <br/>Synced <strong style=\"color:#cdcd00\">worthy-jazz-2</strong>: <a href=\"https://wandb.ai/rohithd/CS6910%20ASSIGNMENT%202/runs/2gk7v7pr\" target=\"_blank\">https://wandb.ai/rohithd/CS6910%20ASSIGNMENT%202/runs/2gk7v7pr</a><br/>\n",
              "                "
            ],
            "text/plain": [
              "<IPython.core.display.HTML object>"
            ]
          },
          "metadata": {
            "tags": []
          }
        }
      ]
    },
    {
      "cell_type": "markdown",
      "metadata": {
        "id": "MYLO8XNzQJZL"
      },
      "source": [
        "**Upload Raw Test Data**"
      ]
    },
    {
      "cell_type": "code",
      "metadata": {
        "colab": {
          "base_uri": "https://localhost:8080/",
          "height": 256,
          "referenced_widgets": [
            "1df7b2f980764190bd520c242200fc9d",
            "0a12030debc7438a83ac629ef939023a",
            "00f1b8ceaa4d45e3a9c40f28b6187469",
            "366de80e79e646c6ac7f74a237111b31",
            "8728da1dc76d4f27b0abb25d97dbea08",
            "b9d1a2eb706343a685708b4bb7a3946f",
            "d6e9cb846cac4dfabac672d0c876b26e",
            "35a411651c2e4c5e858f881c8ac0af49"
          ]
        },
        "id": "rRNOd-uYQKpC",
        "outputId": "98cf9ef0-58e4-4c5e-e279-1c86b7854cbb"
      },
      "source": [
        "# source directory for all raw train data\n",
        "SRC_TEST = DATA_TEST_SRC\n",
        "# number of images per class label\n",
        "# the total number of images is 10X this (10 classes)\n",
        "TOTAL_IMAGES = TEST_IMAGES_PER_LABEL * 10\n",
        "PREFIX_2 = \"test\" # convenient for tracking local data\n",
        "\n",
        "TEST_RAW_DATA_AT = \"_\".join([PREFIX_2, \"raw_data\", str(TOTAL_IMAGES)])\n",
        "run = wandb.init(project=PROJECT_NAME, job_type=\"upload\")\n",
        "\n",
        "# create an artifact for all the raw data\n",
        "raw_data_at = wandb.Artifact(TEST_RAW_DATA_AT, type=\"raw_data\")\n",
        "\n",
        "# SRC_DIR contains 10 folders, one for each of 10 class labels\n",
        "# each folder contains images of the corresponding class\n",
        "labels = os.listdir(SRC_TEST)\n",
        "for l in labels:\n",
        "  imgs_per_label = os.path.join(SRC_TEST, l)\n",
        "  if os.path.isdir(imgs_per_label):\n",
        "    imgs = os.listdir(imgs_per_label)\n",
        "    # randomize the order\n",
        "    shuffle(imgs)\n",
        "    img_file_ids = imgs[:TEST_IMAGES_PER_LABEL]\n",
        "    for f in img_file_ids:\n",
        "      file_path = os.path.join(SRC_TEST, l, f)\n",
        "      # add file to artifact by full path\n",
        "      raw_data_at.add_file(file_path, name=l + \"/\" + f)\n",
        "\n",
        "# save artifact to W&B\n",
        "run.log_artifact(raw_data_at)\n",
        "run.finish()"
      ],
      "execution_count": 11,
      "outputs": [
        {
          "output_type": "display_data",
          "data": {
            "text/html": [
              "\n",
              "                Tracking run with wandb version 0.10.25<br/>\n",
              "                Syncing run <strong style=\"color:#cdcd00\">tough-night-3</strong> to <a href=\"https://wandb.ai\" target=\"_blank\">Weights & Biases</a> <a href=\"https://docs.wandb.com/integrations/jupyter.html\" target=\"_blank\">(Documentation)</a>.<br/>\n",
              "                Project page: <a href=\"https://wandb.ai/rohithd/CS6910%20ASSIGNMENT%202\" target=\"_blank\">https://wandb.ai/rohithd/CS6910%20ASSIGNMENT%202</a><br/>\n",
              "                Run page: <a href=\"https://wandb.ai/rohithd/CS6910%20ASSIGNMENT%202/runs/2s0u1nwd\" target=\"_blank\">https://wandb.ai/rohithd/CS6910%20ASSIGNMENT%202/runs/2s0u1nwd</a><br/>\n",
              "                Run data is saved locally in <code>/content/wandb/run-20210410_134735-2s0u1nwd</code><br/><br/>\n",
              "            "
            ],
            "text/plain": [
              "<IPython.core.display.HTML object>"
            ]
          },
          "metadata": {
            "tags": []
          }
        },
        {
          "output_type": "display_data",
          "data": {
            "text/html": [
              "<br/>Waiting for W&B process to finish, PID 10504<br/>Program ended successfully."
            ],
            "text/plain": [
              "<IPython.core.display.HTML object>"
            ]
          },
          "metadata": {
            "tags": []
          }
        },
        {
          "output_type": "display_data",
          "data": {
            "application/vnd.jupyter.widget-view+json": {
              "model_id": "1df7b2f980764190bd520c242200fc9d",
              "version_minor": 0,
              "version_major": 2
            },
            "text/plain": [
              "VBox(children=(Label(value=' 603.93MB of 603.93MB uploaded (0.42MB deduped)\\r'), FloatProgress(value=1.0, max=…"
            ]
          },
          "metadata": {
            "tags": []
          }
        },
        {
          "output_type": "display_data",
          "data": {
            "text/html": [
              "Find user logs for this run at: <code>/content/wandb/run-20210410_134735-2s0u1nwd/logs/debug.log</code>"
            ],
            "text/plain": [
              "<IPython.core.display.HTML object>"
            ]
          },
          "metadata": {
            "tags": []
          }
        },
        {
          "output_type": "display_data",
          "data": {
            "text/html": [
              "Find internal logs for this run at: <code>/content/wandb/run-20210410_134735-2s0u1nwd/logs/debug-internal.log</code>"
            ],
            "text/plain": [
              "<IPython.core.display.HTML object>"
            ]
          },
          "metadata": {
            "tags": []
          }
        },
        {
          "output_type": "display_data",
          "data": {
            "text/html": [
              "Synced 4 W&B file(s), 0 media file(s), 1999 artifact file(s) and 0 other file(s)"
            ],
            "text/plain": [
              "<IPython.core.display.HTML object>"
            ]
          },
          "metadata": {
            "tags": []
          }
        },
        {
          "output_type": "display_data",
          "data": {
            "text/html": [
              "\n",
              "                    <br/>Synced <strong style=\"color:#cdcd00\">tough-night-3</strong>: <a href=\"https://wandb.ai/rohithd/CS6910%20ASSIGNMENT%202/runs/2s0u1nwd\" target=\"_blank\">https://wandb.ai/rohithd/CS6910%20ASSIGNMENT%202/runs/2s0u1nwd</a><br/>\n",
              "                "
            ],
            "text/plain": [
              "<IPython.core.display.HTML object>"
            ]
          },
          "metadata": {
            "tags": []
          }
        }
      ]
    },
    {
      "cell_type": "markdown",
      "metadata": {
        "id": "wVNjFxxCQOYx"
      },
      "source": [
        "**Split Train Data into Train and Validation**"
      ]
    },
    {
      "cell_type": "code",
      "metadata": {
        "colab": {
          "base_uri": "https://localhost:8080/",
          "height": 274,
          "referenced_widgets": [
            "68059dc14a1649cf90d354480e702f4b",
            "824b93a253d54c559e3364b6d9b8f44a",
            "d69e7b4d28dd4cd59bd3a809ac72c086",
            "3b5309d2577d4acc9e1f4b7d26da4cf1",
            "cb7ed38ff6c74fb8bdf30fed7ff70789",
            "0e8fdbbfce4e4101ba37a38dc8d1f25c",
            "ef23cb5346df4ee3b634e2b890f6955a",
            "3f1648178bbb431e9c9ef6ddd1223b4a"
          ]
        },
        "id": "O7jiHiPkQScG",
        "outputId": "b53a8c24-0d6c-46c5-ea75-6ff5874bf857"
      },
      "source": [
        "run = wandb.init(project=PROJECT_NAME, job_type=\"data_split\")\n",
        "\n",
        "# find the most recent (\"latest\") version of the full raw data\n",
        "# you can of course pass around programmatic aliases and not string literals\n",
        "data_at = run.use_artifact(TRAIN_RAW_DATA_AT + \":latest\")\n",
        "# download it locally (for illustration purposes/across hardware; you can\n",
        "# also sync/version artifacts by reference)\n",
        "data_dir = data_at.download()\n",
        "\n",
        "# create balanced train, val, test splits\n",
        "# each count is the number of images per label\n",
        "DATA_SPLITS = BALANCED_SPLITS\n",
        "\n",
        "ats = {}\n",
        "# wrap artifacts in dictionary for convenience\n",
        "for split, count in DATA_SPLITS.items():\n",
        "  ats[split] = wandb.Artifact(\"_\".join([PREFIX_1, split, \"data\", str(count*10)]), \n",
        "                              \"_\".join([split, \"data\"]))\n",
        "\n",
        "labels = os.listdir(data_dir)\n",
        "for l in labels:\n",
        "  if l.startswith(\".\"): # skip non-label file\n",
        "    continue\n",
        "  imgs_per_label = os.listdir(os.path.join(data_dir, l))\n",
        "  shuffle(imgs_per_label)\n",
        "  start_id = 0\n",
        "  for split, count in DATA_SPLITS.items():\n",
        "    # take a subset\n",
        "    split_imgs = imgs_per_label[start_id:start_id+count]\n",
        "    for img_file in split_imgs:\n",
        "      full_path = os.path.join(data_dir, l, img_file)\n",
        "      # add file to artifact by full path\n",
        "      # note: pass the label to the name parameter to retain it in\n",
        "      # the data structure \n",
        "      ats[split].add_file(full_path, name = os.path.join(l, img_file))\n",
        "    start_id += count\n",
        "\n",
        "# save all three artifacts to W&B\n",
        "# note: yes, in this example, we are cheating and have labels for the \"val\" data ;)\n",
        "for split, artifact in ats.items():\n",
        "  run.log_artifact(artifact)\n",
        "\n",
        "run.finish()"
      ],
      "execution_count": 12,
      "outputs": [
        {
          "output_type": "display_data",
          "data": {
            "text/html": [
              "\n",
              "                Tracking run with wandb version 0.10.25<br/>\n",
              "                Syncing run <strong style=\"color:#cdcd00\">upbeat-flower-4</strong> to <a href=\"https://wandb.ai\" target=\"_blank\">Weights & Biases</a> <a href=\"https://docs.wandb.com/integrations/jupyter.html\" target=\"_blank\">(Documentation)</a>.<br/>\n",
              "                Project page: <a href=\"https://wandb.ai/rohithd/CS6910%20ASSIGNMENT%202\" target=\"_blank\">https://wandb.ai/rohithd/CS6910%20ASSIGNMENT%202</a><br/>\n",
              "                Run page: <a href=\"https://wandb.ai/rohithd/CS6910%20ASSIGNMENT%202/runs/2nldmhlj\" target=\"_blank\">https://wandb.ai/rohithd/CS6910%20ASSIGNMENT%202/runs/2nldmhlj</a><br/>\n",
              "                Run data is saved locally in <code>/content/wandb/run-20210410_135027-2nldmhlj</code><br/><br/>\n",
              "            "
            ],
            "text/plain": [
              "<IPython.core.display.HTML object>"
            ]
          },
          "metadata": {
            "tags": []
          }
        },
        {
          "output_type": "stream",
          "text": [
            "\u001b[34m\u001b[1mwandb\u001b[0m: Downloading large artifact train_raw_data_10000:latest, 3044.53MB. 10000 files... Done. 0:0:0\n"
          ],
          "name": "stderr"
        },
        {
          "output_type": "display_data",
          "data": {
            "text/html": [
              "<br/>Waiting for W&B process to finish, PID 12532<br/>Program ended successfully."
            ],
            "text/plain": [
              "<IPython.core.display.HTML object>"
            ]
          },
          "metadata": {
            "tags": []
          }
        },
        {
          "output_type": "display_data",
          "data": {
            "application/vnd.jupyter.widget-view+json": {
              "model_id": "68059dc14a1649cf90d354480e702f4b",
              "version_minor": 0,
              "version_major": 2
            },
            "text/plain": [
              "VBox(children=(Label(value=' 3043.06MB of 3043.06MB uploaded (0.94MB deduped)\\r'), FloatProgress(value=1.0, ma…"
            ]
          },
          "metadata": {
            "tags": []
          }
        },
        {
          "output_type": "display_data",
          "data": {
            "text/html": [
              "Find user logs for this run at: <code>/content/wandb/run-20210410_135027-2nldmhlj/logs/debug.log</code>"
            ],
            "text/plain": [
              "<IPython.core.display.HTML object>"
            ]
          },
          "metadata": {
            "tags": []
          }
        },
        {
          "output_type": "display_data",
          "data": {
            "text/html": [
              "Find internal logs for this run at: <code>/content/wandb/run-20210410_135027-2nldmhlj/logs/debug-internal.log</code>"
            ],
            "text/plain": [
              "<IPython.core.display.HTML object>"
            ]
          },
          "metadata": {
            "tags": []
          }
        },
        {
          "output_type": "display_data",
          "data": {
            "text/html": [
              "Synced 5 W&B file(s), 0 media file(s), 9996 artifact file(s) and 0 other file(s)"
            ],
            "text/plain": [
              "<IPython.core.display.HTML object>"
            ]
          },
          "metadata": {
            "tags": []
          }
        },
        {
          "output_type": "display_data",
          "data": {
            "text/html": [
              "\n",
              "                    <br/>Synced <strong style=\"color:#cdcd00\">upbeat-flower-4</strong>: <a href=\"https://wandb.ai/rohithd/CS6910%20ASSIGNMENT%202/runs/2nldmhlj\" target=\"_blank\">https://wandb.ai/rohithd/CS6910%20ASSIGNMENT%202/runs/2nldmhlj</a><br/>\n",
              "                "
            ],
            "text/plain": [
              "<IPython.core.display.HTML object>"
            ]
          },
          "metadata": {
            "tags": []
          }
        }
      ]
    },
    {
      "cell_type": "markdown",
      "metadata": {
        "id": "ts9vO5gjQkEC"
      },
      "source": [
        "**Default Configuration**"
      ]
    },
    {
      "cell_type": "code",
      "metadata": {
        "id": "VKGymf0TQuiZ"
      },
      "source": [
        "MODEL_NAME = \"CNN\"\n",
        "FINAL_MODEL_DIR = \"trained_CNN\"\n",
        "\n",
        "config_defaults = {\n",
        "    \"img_size\" : 229,\n",
        "    \"batch_size\" : 100,\n",
        "    \"n_classes\" : 10,\n",
        "    \"n_filters\" : [16,32,64,64,128],\n",
        "    \"filter_size\" : [3,3,3,3,3],\n",
        "    \"fc_size\" : 400,\n",
        "    \"drop_out\" : 0.5,\n",
        "    \"augmentation\" : 1,\n",
        "    \"batch_normalize\" : 1 \n",
        "}\n",
        "\n",
        "n_train = BALANCED_SPLITS[\"train\"] * 10\n",
        "n_val = BALANCED_SPLITS[\"val\"] * 10\n",
        "n_epochs = 5 "
      ],
      "execution_count": 13,
      "outputs": []
    },
    {
      "cell_type": "markdown",
      "metadata": {
        "id": "fcUa0BxaQ4yG"
      },
      "source": [
        "**Define and Compile Model**"
      ]
    },
    {
      "cell_type": "code",
      "metadata": {
        "id": "hea7B2_1Q5rl"
      },
      "source": [
        "def cnn_model(img_size,n_filters,filter_size,fc_size,drop_out,n_classes):\n",
        "\n",
        "   model = tf.keras.models.Sequential([\n",
        "        tf.keras.layers.Conv2D(n_filters[0], (filter_size[0],filter_size[0]), activation='relu', input_shape=(img_size,img_size,3)),\n",
        "        tf.keras.layers.BatchNormalization(),\n",
        "        tf.keras.layers.MaxPooling2D(2, 2),\n",
        "\n",
        "        tf.keras.layers.Conv2D(n_filters[1], (filter_size[1],filter_size[1]), activation='relu'),\n",
        "        tf.keras.layers.BatchNormalization(),\n",
        "        tf.keras.layers.MaxPooling2D(2,2),\n",
        "\n",
        "        tf.keras.layers.Conv2D(n_filters[2], (filter_size[2],filter_size[2]), activation='relu'),\n",
        "        tf.keras.layers.BatchNormalization(),\n",
        "        tf.keras.layers.MaxPooling2D(2,2),\n",
        "\n",
        "        tf.keras.layers.Conv2D(n_filters[3], (filter_size[3],filter_size[3]), activation='relu'),\n",
        "        tf.keras.layers.BatchNormalization(),\n",
        "        tf.keras.layers.MaxPooling2D(2,2),\n",
        "\n",
        "        tf.keras.layers.Conv2D(n_filters[4], (filter_size[4],filter_size[4]), activation='relu'),\n",
        "        tf.keras.layers.BatchNormalization(),\n",
        "        tf.keras.layers.MaxPooling2D(2,2),\n",
        "\n",
        "        tf.keras.layers.Dropout(drop_out),\n",
        "        tf.keras.layers.Flatten(),\n",
        "        tf.keras.layers.Dense(fc_size, activation='relu'),\n",
        "        tf.keras.layers.Dense(n_classes,activation=\"softmax\")\n",
        "    ])\n",
        "\n",
        "   model.compile(optimizer='adam',loss='categorical_crossentropy',metrics=['accuracy'])\n",
        "   model.summary()\n",
        "   return model\n",
        "\n",
        "   "
      ],
      "execution_count": 14,
      "outputs": []
    },
    {
      "cell_type": "markdown",
      "metadata": {
        "id": "8qL6dgo8Q9tv"
      },
      "source": [
        "**Train Model**"
      ]
    },
    {
      "cell_type": "code",
      "metadata": {
        "id": "yQwJcV3_RABD"
      },
      "source": [
        "def train():\n",
        "  \n",
        "  config_defaults = {\n",
        "      \"img_size\" : 229,\n",
        "      \"batch_size\" : 100,\n",
        "      \"n_classes\" : 10,\n",
        "      \"n_filters\" : [16,32,64,64,128],\n",
        "      \"filter_size\" : [3,3,3,3,3],\n",
        "      \"fc_size\" : 400,\n",
        "      \"drop_out\" : 0.5,\n",
        "      \"augmentation\" : 1,\n",
        "      \"batch_normalize\" : 1 \n",
        "  }\n",
        "\n",
        "  # track this experiment with wandb: all runs will be sent to the given project name\n",
        "  run = wandb.init(config=config_defaults,job_type='train')\n",
        "  cfg = wandb.config\n",
        "\n",
        "  # artifact names\n",
        "  train_at = os.path.join(PROJECT_NAME, PREFIX_1 + \"_train_data_\" + str(n_train)) + \":latest\"\n",
        "  val_at = os.path.join(PROJECT_NAME, PREFIX_1 + \"_val_data_\" + str(n_val)) + \":latest\"\n",
        "\n",
        "  train_data = run.use_artifact(train_at, type='train_data')\n",
        "  train_dir = train_data.download()\n",
        "  val_data = run.use_artifact(val_at, type='val_data')\n",
        "  val_dir = val_data.download()\n",
        "\n",
        "  # create augmented train and validation data generators\n",
        "  if cfg.augmentation == 1:\n",
        "    train_datagen = ImageDataGenerator(\n",
        "      rescale=1./255,\n",
        "      rotation_range=36,\n",
        "      width_shift_range=0.2,\n",
        "      height_shift_range=0.3,\n",
        "      shear_range=0.3,\n",
        "      zoom_range=0.4,\n",
        "      horizontal_flip=True,\n",
        "      fill_mode='nearest')\n",
        "  else  :\n",
        "    train_datagen = ImageDataGenerator(rescale = 1. /255)\n",
        "  \n",
        "  val_datagen = ImageDataGenerator(rescale = 1. / 255)\n",
        "\n",
        "  train_generator = train_datagen.flow_from_directory(\n",
        "    train_dir,\n",
        "    target_size=(cfg.img_size, cfg.img_size),\n",
        "    batch_size=cfg.batch_size,\n",
        "    class_mode='categorical')\n",
        "\n",
        "  val_generator = val_datagen.flow_from_directory(\n",
        "    val_dir,\n",
        "    target_size=(cfg.img_size, cfg.img_size),\n",
        "    batch_size=cfg.batch_size,\n",
        "    class_mode='categorical')\n",
        "  \n",
        "  config.n_filters=[np.random.choice(cfg.n_filters_val) for i in range(5)]   #hidden layer sizes array creation\n",
        "\n",
        "  config.filter_size=[np.random.choice(cfg.filter_size_val) for i in range(5)]\n",
        "\n",
        "  # instantiate model and callbacks\n",
        "  model = cnn_model(cfg.img_size,cfg.n_filters,cfg.filter_size,cfg.fc_size,cfg.drop_out,cfg.n_classes)\n",
        " \n",
        "  # train and validate\n",
        "  history = model.fit(\n",
        "      train_generator,\n",
        "      steps_per_epoch = n_train // cfg.batch_size,\n",
        "      epochs = n_epochs,\n",
        "      validation_data=val_generator,\n",
        "      callbacks = [WandbCallback()],\n",
        "      validation_steps = n_val // cfg.batch_size)\n",
        "\n",
        "  # save trained model as artifact\n",
        "  trained_model_artifact = wandb.Artifact(\n",
        "            MODEL_NAME, type=\"model\",\n",
        "            description=\"trained cnn model\",\n",
        "            metadata=dict(cfg))\n",
        "\n",
        "  model.save(FINAL_MODEL_DIR)\n",
        "  trained_model_artifact.add_dir(FINAL_MODEL_DIR)\n",
        "  run.log_artifact(trained_model_artifact)\n",
        "  run.finish()"
      ],
      "execution_count": 15,
      "outputs": []
    },
    {
      "cell_type": "code",
      "metadata": {
        "colab": {
          "base_uri": "https://localhost:8080/",
          "height": 168
        },
        "id": "qc6Vfm_TROv4",
        "outputId": "e4e596d3-6406-441b-8a56-cd6d25626a90"
      },
      "source": [
        "train()"
      ],
      "execution_count": 1,
      "outputs": [
        {
          "output_type": "error",
          "ename": "NameError",
          "evalue": "ignored",
          "traceback": [
            "\u001b[0;31m---------------------------------------------------------------------------\u001b[0m",
            "\u001b[0;31mNameError\u001b[0m                                 Traceback (most recent call last)",
            "\u001b[0;32m<ipython-input-1-2da0ffaf5447>\u001b[0m in \u001b[0;36m<module>\u001b[0;34m()\u001b[0m\n\u001b[0;32m----> 1\u001b[0;31m \u001b[0mtrain\u001b[0m\u001b[0;34m(\u001b[0m\u001b[0;34m)\u001b[0m\u001b[0;34m\u001b[0m\u001b[0;34m\u001b[0m\u001b[0m\n\u001b[0m",
            "\u001b[0;31mNameError\u001b[0m: name 'train' is not defined"
          ]
        }
      ]
    },
    {
      "cell_type": "code",
      "metadata": {
        "colab": {
          "base_uri": "https://localhost:8080/",
          "height": 237
        },
        "id": "Tsfl0qLjZ9Bw",
        "outputId": "10fc25f5-022a-468f-f57a-4c212391facb"
      },
      "source": [
        "acc = history.history['accuracy']\n",
        "val_acc = history.history['val_accuracy']\n",
        "\n",
        "loss = history.history['loss']\n",
        "val_loss = history.history['val_loss']\n",
        "\n",
        "epochs_range = range(epochs)\n",
        "\n",
        "plt.figure(figsize=(8, 8))\n",
        "plt.subplot(1, 2, 1)\n",
        "plt.plot(epochs_range, acc, label='Training Accuracy')\n",
        "plt.plot(epochs_range, val_acc, label='Validation Accuracy')\n",
        "plt.legend(loc='lower right')\n",
        "plt.title('Training and Validation Accuracy')\n",
        "\n",
        "plt.subplot(1, 2, 2)\n",
        "plt.plot(epochs_range, loss, label='Training Loss')\n",
        "plt.plot(epochs_range, val_loss, label='Validation Loss')\n",
        "plt.legend(loc='upper right')\n",
        "plt.title('Training and Validation Loss')\n",
        "plt.show()"
      ],
      "execution_count": null,
      "outputs": [
        {
          "output_type": "error",
          "ename": "NameError",
          "evalue": "ignored",
          "traceback": [
            "\u001b[0;31m---------------------------------------------------------------------------\u001b[0m",
            "\u001b[0;31mNameError\u001b[0m                                 Traceback (most recent call last)",
            "\u001b[0;32m<ipython-input-20-dd24d500ad9e>\u001b[0m in \u001b[0;36m<module>\u001b[0;34m()\u001b[0m\n\u001b[0;32m----> 1\u001b[0;31m \u001b[0macc\u001b[0m \u001b[0;34m=\u001b[0m \u001b[0mrecord\u001b[0m\u001b[0;34m.\u001b[0m\u001b[0mrecord\u001b[0m\u001b[0;34m[\u001b[0m\u001b[0;34m'accuracy'\u001b[0m\u001b[0;34m]\u001b[0m\u001b[0;34m\u001b[0m\u001b[0;34m\u001b[0m\u001b[0m\n\u001b[0m\u001b[1;32m      2\u001b[0m \u001b[0mval_acc\u001b[0m \u001b[0;34m=\u001b[0m \u001b[0mrecord\u001b[0m\u001b[0;34m.\u001b[0m\u001b[0mrecord\u001b[0m\u001b[0;34m[\u001b[0m\u001b[0;34m'val_accuracy'\u001b[0m\u001b[0;34m]\u001b[0m\u001b[0;34m\u001b[0m\u001b[0;34m\u001b[0m\u001b[0m\n\u001b[1;32m      3\u001b[0m \u001b[0;34m\u001b[0m\u001b[0m\n\u001b[1;32m      4\u001b[0m \u001b[0mloss\u001b[0m \u001b[0;34m=\u001b[0m \u001b[0mrecord\u001b[0m\u001b[0;34m.\u001b[0m\u001b[0mrecord\u001b[0m\u001b[0;34m[\u001b[0m\u001b[0;34m'loss'\u001b[0m\u001b[0;34m]\u001b[0m\u001b[0;34m\u001b[0m\u001b[0;34m\u001b[0m\u001b[0m\n\u001b[1;32m      5\u001b[0m \u001b[0mval_loss\u001b[0m \u001b[0;34m=\u001b[0m \u001b[0mrecord\u001b[0m\u001b[0;34m.\u001b[0m\u001b[0mrecord\u001b[0m\u001b[0;34m[\u001b[0m\u001b[0;34m'val_loss'\u001b[0m\u001b[0;34m]\u001b[0m\u001b[0;34m\u001b[0m\u001b[0;34m\u001b[0m\u001b[0m\n",
            "\u001b[0;31mNameError\u001b[0m: name 'record' is not defined"
          ]
        }
      ]
    },
    {
      "cell_type": "code",
      "metadata": {
        "id": "SvxSYb31aBvl"
      },
      "source": [
        "def sweeper(sweep_config,PROJECT_NAME):\n",
        "  sweep_id=wandb.sweep(sweep_config,project=PROJECT_NAME)\n",
        "  wandb.agent(sweep_id,train,project=PROJECT_NAME)"
      ],
      "execution_count": 19,
      "outputs": []
    },
    {
      "cell_type": "code",
      "metadata": {
        "id": "EW9vucYHaF3j"
      },
      "source": [
        "#sweep dictionary\n",
        "sweep_config={\n",
        "    'method':'bayes',\n",
        "    'metric':{\n",
        "        'name':'accuracy',\n",
        "        'goal':'maximize'},\n",
        "\n",
        "}\n",
        "\n",
        "parameters_dict={\n",
        "    #'n_filters':{\n",
        "    #    'values':[[16,32,64,64,128],[128,64,64,32,16], [32,32,32,32,32]]\n",
        "    #},\n",
        "    'n_filters_val':{\n",
        "        'values':[16,32,64,128]\n",
        "    },\n",
        "    #'filter_size':{\n",
        "    #    'values':[[3,3,3,3,3],[3,3,3,5,5],[5,5,5,3,3]]\n",
        "    #},\n",
        "    'filter_size_val':{\n",
        "        'values':[3,4,5]\n",
        "    },\n",
        "    'fc_size':{\n",
        "        'values':[256,128,512]\n",
        "    },\n",
        "    'drop_out':{\n",
        "        'values':[0.3,0.5,0.8]\n",
        "    },\n",
        "    'augmentation':{\n",
        "      'values':[1,0]  \n",
        "    },\n",
        "    'batch_normalize':{\n",
        "        'values':[1]\n",
        "    },\n",
        "    'batch_size':{\n",
        "        'values':[100]\n",
        "    },\n",
        "}\n",
        "\n",
        "sweep_config['parameters']=parameters_dict"
      ],
      "execution_count": 16,
      "outputs": []
    },
    {
      "cell_type": "code",
      "metadata": {
        "id": "vj0JZM5vaIvi",
        "colab": {
          "base_uri": "https://localhost:8080/"
        },
        "outputId": "4e8b0e63-8e03-4194-d328-39d5929b83d3"
      },
      "source": [
        "sweep_id=wandb.sweep(sweep_config,project=PROJECT_NAME)"
      ],
      "execution_count": 17,
      "outputs": [
        {
          "output_type": "stream",
          "text": [
            "Create sweep with ID: e8pdtbw5\n",
            "Sweep URL: https://wandb.ai/rohithd/CS6910%20ASSIGNMENT%202/sweeps/e8pdtbw5\n"
          ],
          "name": "stdout"
        }
      ]
    },
    {
      "cell_type": "code",
      "metadata": {
        "id": "jSVkYkeqaLPg",
        "colab": {
          "base_uri": "https://localhost:8080/",
          "height": 1000
        },
        "outputId": "9c29a275-3fe0-4ce1-d220-431580c69418"
      },
      "source": [
        "sweeper(sweep_config,PROJECT_NAME)"
      ],
      "execution_count": null,
      "outputs": [
        {
          "output_type": "stream",
          "text": [
            "Create sweep with ID: zbhwwg6q\n",
            "Sweep URL: https://wandb.ai/rohithd/CS6910%20ASSIGNMENT%202/sweeps/zbhwwg6q\n"
          ],
          "name": "stdout"
        },
        {
          "output_type": "stream",
          "text": [
            "\u001b[34m\u001b[1mwandb\u001b[0m: Sweep Agent: Waiting for job.\n",
            "\u001b[34m\u001b[1mwandb\u001b[0m: Job received.\n",
            "\u001b[34m\u001b[1mwandb\u001b[0m: Agent Starting Run: mqi1f3wo with config:\n",
            "\u001b[34m\u001b[1mwandb\u001b[0m: \taugmentation: 1\n",
            "\u001b[34m\u001b[1mwandb\u001b[0m: \tbatch_normalize: 1\n",
            "\u001b[34m\u001b[1mwandb\u001b[0m: \tbatch_size: 100\n",
            "\u001b[34m\u001b[1mwandb\u001b[0m: \tdrop_out: 0.8\n",
            "\u001b[34m\u001b[1mwandb\u001b[0m: \tfc_size: 256\n",
            "\u001b[34m\u001b[1mwandb\u001b[0m: \tfilter_size: [5, 5, 5, 3, 3]\n",
            "\u001b[34m\u001b[1mwandb\u001b[0m: \tn_filters: [32, 32, 32, 32, 32]\n"
          ],
          "name": "stderr"
        },
        {
          "output_type": "display_data",
          "data": {
            "text/html": [
              "\n",
              "                Tracking run with wandb version 0.10.25<br/>\n",
              "                Syncing run <strong style=\"color:#cdcd00\">atomic-sweep-1</strong> to <a href=\"https://wandb.ai\" target=\"_blank\">Weights & Biases</a> <a href=\"https://docs.wandb.com/integrations/jupyter.html\" target=\"_blank\">(Documentation)</a>.<br/>\n",
              "                Project page: <a href=\"https://wandb.ai/rohithd/CS6910%20ASSIGNMENT%202\" target=\"_blank\">https://wandb.ai/rohithd/CS6910%20ASSIGNMENT%202</a><br/>\n",
              "                Sweep page: <a href=\"https://wandb.ai/rohithd/CS6910%20ASSIGNMENT%202/sweeps/zbhwwg6q\" target=\"_blank\">https://wandb.ai/rohithd/CS6910%20ASSIGNMENT%202/sweeps/zbhwwg6q</a><br/>\n",
              "Run page: <a href=\"https://wandb.ai/rohithd/CS6910%20ASSIGNMENT%202/runs/mqi1f3wo\" target=\"_blank\">https://wandb.ai/rohithd/CS6910%20ASSIGNMENT%202/runs/mqi1f3wo</a><br/>\n",
              "                Run data is saved locally in <code>/content/wandb/run-20210410_141435-mqi1f3wo</code><br/><br/>\n",
              "            "
            ],
            "text/plain": [
              "<IPython.core.display.HTML object>"
            ]
          },
          "metadata": {
            "tags": []
          }
        },
        {
          "output_type": "stream",
          "text": [
            "\u001b[34m\u001b[1mwandb\u001b[0m: Downloading large artifact train_train_data_9000:latest, 2743.84MB. 9000 files... Done. 0:0:0\n",
            "\u001b[34m\u001b[1mwandb\u001b[0m: Downloading large artifact train_val_data_1000:latest, 300.69MB. 1000 files... Done. 0:0:0\n"
          ],
          "name": "stderr"
        },
        {
          "output_type": "stream",
          "text": [
            "Found 8999 images belonging to 10 classes.\n",
            "Found 1000 images belonging to 10 classes.\n",
            "Model: \"sequential\"\n",
            "_________________________________________________________________\n",
            "Layer (type)                 Output Shape              Param #   \n",
            "=================================================================\n",
            "conv2d (Conv2D)              (None, 225, 225, 32)      2432      \n",
            "_________________________________________________________________\n",
            "batch_normalization (BatchNo (None, 225, 225, 32)      128       \n",
            "_________________________________________________________________\n",
            "max_pooling2d (MaxPooling2D) (None, 112, 112, 32)      0         \n",
            "_________________________________________________________________\n",
            "conv2d_1 (Conv2D)            (None, 108, 108, 32)      25632     \n",
            "_________________________________________________________________\n",
            "batch_normalization_1 (Batch (None, 108, 108, 32)      128       \n",
            "_________________________________________________________________\n",
            "max_pooling2d_1 (MaxPooling2 (None, 54, 54, 32)        0         \n",
            "_________________________________________________________________\n",
            "conv2d_2 (Conv2D)            (None, 50, 50, 32)        25632     \n",
            "_________________________________________________________________\n",
            "batch_normalization_2 (Batch (None, 50, 50, 32)        128       \n",
            "_________________________________________________________________\n",
            "max_pooling2d_2 (MaxPooling2 (None, 25, 25, 32)        0         \n",
            "_________________________________________________________________\n",
            "conv2d_3 (Conv2D)            (None, 23, 23, 32)        9248      \n",
            "_________________________________________________________________\n",
            "batch_normalization_3 (Batch (None, 23, 23, 32)        128       \n",
            "_________________________________________________________________\n",
            "max_pooling2d_3 (MaxPooling2 (None, 11, 11, 32)        0         \n",
            "_________________________________________________________________\n",
            "conv2d_4 (Conv2D)            (None, 9, 9, 32)          9248      \n",
            "_________________________________________________________________\n",
            "batch_normalization_4 (Batch (None, 9, 9, 32)          128       \n",
            "_________________________________________________________________\n",
            "max_pooling2d_4 (MaxPooling2 (None, 4, 4, 32)          0         \n",
            "_________________________________________________________________\n",
            "dropout (Dropout)            (None, 4, 4, 32)          0         \n",
            "_________________________________________________________________\n",
            "flatten (Flatten)            (None, 512)               0         \n",
            "_________________________________________________________________\n",
            "dense (Dense)                (None, 256)               131328    \n",
            "_________________________________________________________________\n",
            "dense_1 (Dense)              (None, 10)                2570      \n",
            "=================================================================\n",
            "Total params: 206,730\n",
            "Trainable params: 206,410\n",
            "Non-trainable params: 320\n",
            "_________________________________________________________________\n",
            "Epoch 1/5\n",
            "90/90 [==============================] - 1934s 21s/step - loss: 3.8202 - accuracy: 0.1259 - val_loss: 2.4688 - val_accuracy: 0.1060\n",
            "Epoch 2/5\n",
            "61/90 [===================>..........] - ETA: 8:37 - loss: 2.6659 - accuracy: 0.1649"
          ],
          "name": "stdout"
        }
      ]
    }
  ]
}